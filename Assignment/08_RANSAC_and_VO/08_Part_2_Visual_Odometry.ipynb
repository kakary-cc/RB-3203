{
  "nbformat": 4,
  "nbformat_minor": 0,
  "metadata": {
    "colab": {
      "provenance": [],
      "gpuType": "T4"
    },
    "kernelspec": {
      "name": "python3",
      "display_name": "Python 3"
    },
    "language_info": {
      "name": "python"
    },
    "accelerator": "GPU"
  },
  "cells": [
    {
      "cell_type": "markdown",
      "source": [
        "Code adopted from - https://github.com/uoip/monoVO-python"
      ],
      "metadata": {
        "id": "tcEdqCnlvTql"
      }
    },
    {
      "cell_type": "markdown",
      "source": [
        "The data for this tutorial can be downloaded from here - https://drive.google.com/drive/folders/1Y-78vFnFBnc9JkjjX_i72aoeCpof7HjP?usp=sharing"
      ],
      "metadata": {
        "id": "2FSEC_OSaDD9"
      }
    },
    {
      "cell_type": "markdown",
      "source": [
        "## Visual Odometry\n",
        "\n",
        "Visual odometry is a technique used in robotics and computer vision to estimate the motion of a camera or a vehicle using only visual inputs, typically from one or more cameras. It involves analyzing consecutive images captured by the camera(s) to track the camera's movement and estimate its trajectory over time."
      ],
      "metadata": {
        "id": "jjnJ4QdQu9nG"
      }
    },
    {
      "cell_type": "markdown",
      "source": [
        "Here's how visual odometry typically works:-\n",
        "\n",
        "\n",
        "1.   Feature Detection and Tracking - The process begins by detecting and tracking distinctive visual features (such as corners, edges, or keypoints) in successive image frames\n",
        "2.   Motion Estimation - Using the tracked features, visual odometry algorithms compute the relative motion between consecutive frames. This motion estimation can be done using various techniques, such as feature matching, optical flow estimation, or direct image alignment methods.\n",
        "3.   Pose Estimation - The relative motion estimates are integrated over time to estimate the camera's trajectory or pose (position and orientation) as it moves through the environment. This involves accumulating motion estimates and updating the camera's pose accordingly.\n",
        "4.   Loop Closure and Optimization - To improve accuracy and robustness, visual odometry systems often incorporate loop closure detection and optimization techniques.\n",
        "\n"
      ],
      "metadata": {
        "id": "23IU9UW9vfgo"
      }
    },
    {
      "cell_type": "markdown",
      "source": [
        "Could you name a few optimization techniques? We saw a couple of them in the previous tutorials.\n",
        "\n",
        "\n"
      ],
      "metadata": {
        "id": "VLXYD8UHWCjR"
      }
    },
    {
      "cell_type": "code",
      "source": [
        "import numpy as np\n",
        "import cv2\n",
        "from os import listdir\n",
        "from tqdm import tqdm\n",
        "import matplotlib.pyplot as plt"
      ],
      "metadata": {
        "id": "DnjEEE-UvrZN"
      },
      "execution_count": null,
      "outputs": []
    },
    {
      "cell_type": "code",
      "source": [
        "STAGE_FIRST_FRAME = 0\n",
        "STAGE_SECOND_FRAME = 1\n",
        "STAGE_DEFAULT_FRAME = 2\n",
        "kMinNumFeature = 1500"
      ],
      "metadata": {
        "id": "ALFd17DJvrVx"
      },
      "execution_count": null,
      "outputs": []
    },
    {
      "cell_type": "code",
      "source": [
        "lk_params = dict(winSize  = (21, 21),\n",
        "             \tcriteria = (cv2.TERM_CRITERIA_EPS | cv2.TERM_CRITERIA_COUNT, 30, 0.01))"
      ],
      "metadata": {
        "id": "yTvBCJkQvrUH"
      },
      "execution_count": null,
      "outputs": []
    },
    {
      "cell_type": "code",
      "source": [
        "def featureTracking(image_ref, image_cur, px_ref):\n",
        "\tkp2, st, err = cv2.calcOpticalFlowPyrLK(image_ref, image_cur, px_ref, None, **lk_params)  #shape: [k,2] [k,1] [k,1]\n",
        "\n",
        "\tst = st.reshape(st.shape[0])\n",
        "\tkp1 = px_ref[st == 1]\n",
        "\tkp2 = kp2[st == 1]\n",
        "\n",
        "\treturn kp1, kp2"
      ],
      "metadata": {
        "id": "Im0qT5RTvrSL"
      },
      "execution_count": null,
      "outputs": []
    },
    {
      "cell_type": "code",
      "source": [
        "class PinholeCamera:\n",
        "\tdef __init__(self, width, height, fx, fy, cx, cy,\n",
        "\t\t\t\tk1=0.0, k2=0.0, p1=0.0, p2=0.0, k3=0.0):\n",
        "\t\tself.width = width\n",
        "\t\tself.height = height\n",
        "\t\tself.fx = fx\n",
        "\t\tself.fy = fy\n",
        "\t\tself.cx = cx\n",
        "\t\tself.cy = cy\n",
        "\t\tself.distortion = (abs(k1) > 0.0000001)\n",
        "\t\tself.d = [k1, k2, p1, p2, k3]"
      ],
      "metadata": {
        "id": "i5quEkH7vrQM"
      },
      "execution_count": null,
      "outputs": []
    },
    {
      "cell_type": "code",
      "execution_count": null,
      "metadata": {
        "id": "SzmMkHYrvktX"
      },
      "outputs": [],
      "source": [
        "class VisualOdometry:\n",
        "\tdef __init__(self, cam, annotations):\n",
        "\t\tself.frame_stage = 0\n",
        "\t\tself.cam = cam\n",
        "\t\tself.new_frame = None\n",
        "\t\tself.last_frame = None\n",
        "\t\tself.cur_R = None\n",
        "\t\tself.cur_t = None\n",
        "\t\tself.px_ref = None\n",
        "\t\tself.px_cur = None\n",
        "\t\tself.focal = cam.fx\n",
        "\t\tself.pp = (cam.cx, cam.cy)\n",
        "\t\tself.trueX, self.trueY, self.trueZ = 0, 0, 0\n",
        "\t\tself.detector = cv2.FastFeatureDetector_create(threshold=25, nonmaxSuppression=True)\n",
        "\t\twith open(annotations) as f:\n",
        "\t\t\tself.annotations = f.readlines()\n",
        "\n",
        "\tdef getAbsoluteScale(self, frame_id):  # specialized for KITTI odometry dataset\n",
        "\t\tss = self.annotations[frame_id-1].strip().split()\n",
        "\t\tx_prev = float(ss[3])\n",
        "\t\ty_prev = float(ss[7])\n",
        "\t\tz_prev = float(ss[11])\n",
        "\t\tss = self.annotations[frame_id].strip().split()\n",
        "\t\tx = float(ss[3])\n",
        "\t\ty = float(ss[7])\n",
        "\t\tz = float(ss[11])\n",
        "\t\tself.trueX, self.trueY, self.trueZ = x, y, z\n",
        "\t\treturn np.sqrt((x - x_prev)*(x - x_prev) + (y - y_prev)*(y - y_prev) + (z - z_prev)*(z - z_prev))\n",
        "\n",
        "\tdef processFirstFrame(self):\n",
        "\t\tself.px_ref = self.detector.detect(self.new_frame)\n",
        "\t\tself.px_ref = np.array([x.pt for x in self.px_ref], dtype=np.float32)\n",
        "\t\tself.frame_stage = STAGE_SECOND_FRAME\n",
        "\n",
        "\tdef processSecondFrame(self):\n",
        "\t\tself.px_ref, self.px_cur = featureTracking(self.last_frame, self.new_frame, self.px_ref)\n",
        "\t\tE, mask = cv2.findEssentialMat(self.px_cur, self.px_ref, focal=self.focal, pp=self.pp, method=cv2.RANSAC, prob=0.999, threshold=1.0)\n",
        "\t\t_, self.cur_R, self.cur_t, mask = cv2.recoverPose(E, self.px_cur, self.px_ref, focal=self.focal, pp = self.pp)\n",
        "\t\tself.frame_stage = STAGE_DEFAULT_FRAME\n",
        "\t\tself.px_ref = self.px_cur\n",
        "\n",
        "\tdef processFrame(self, frame_id):\n",
        "\t\tself.px_ref, self.px_cur = featureTracking(self.last_frame, self.new_frame, self.px_ref)\n",
        "\t\tE, mask = cv2.findEssentialMat(self.px_cur, self.px_ref, focal=self.focal, pp=self.pp, method=cv2.RANSAC, prob=0.999, threshold=1.0)\n",
        "\t\t_, R, t, mask = cv2.recoverPose(E, self.px_cur, self.px_ref, focal=self.focal, pp = self.pp)\n",
        "\t\tabsolute_scale = self.getAbsoluteScale(frame_id)\n",
        "\t\tif(absolute_scale > 0.1):\n",
        "\t\t\tself.cur_t = self.cur_t + absolute_scale*self.cur_R.dot(t)\n",
        "\t\t\tself.cur_R = R.dot(self.cur_R)\n",
        "\t\tif(self.px_ref.shape[0] < kMinNumFeature):\n",
        "\t\t\tself.px_cur = self.detector.detect(self.new_frame)\n",
        "\t\t\tself.px_cur = np.array([x.pt for x in self.px_cur], dtype=np.float32)\n",
        "\t\tself.px_ref = self.px_cur\n",
        "\n",
        "\tdef update(self, img, frame_id):\n",
        "\t\tassert(img.ndim==2 and img.shape[0]==self.cam.height and img.shape[1]==self.cam.width), \"Frame: provided image has not the same size as the camera model or image is not grayscale\"\n",
        "\t\tself.new_frame = img\n",
        "\t\tif(self.frame_stage == STAGE_DEFAULT_FRAME):\n",
        "\t\t\tself.processFrame(frame_id)\n",
        "\t\telif(self.frame_stage == STAGE_SECOND_FRAME):\n",
        "\t\t\tself.processSecondFrame()\n",
        "\t\telif(self.frame_stage == STAGE_FIRST_FRAME):\n",
        "\t\t\tself.processFirstFrame()\n",
        "\t\tself.last_frame = self.new_frame"
      ]
    },
    {
      "cell_type": "code",
      "source": [
        "import zipfile\n",
        "\n",
        "local_zip = \"drive/MyDrive/KITTI/00_image_0.zip\"\n",
        "zip_ref = zipfile.ZipFile(local_zip)\n",
        "zip_ref.extractall('00_image_0/')\n",
        "zip_ref.close()"
      ],
      "metadata": {
        "id": "tbw7Y_bTxpJX"
      },
      "execution_count": null,
      "outputs": []
    },
    {
      "cell_type": "code",
      "source": [
        "data_dir = '00_image_0/image_0/'"
      ],
      "metadata": {
        "id": "wrQKIkY0wpJf"
      },
      "execution_count": null,
      "outputs": []
    },
    {
      "cell_type": "code",
      "source": [
        "cam = PinholeCamera(1241.0, 376.0, 718.8560, 718.8560, 607.1928, 185.2157)\n",
        "vo = VisualOdometry(cam, 'drive/MyDrive/KITTI/00.txt')\n",
        "\n",
        "length = len(listdir(data_dir))\n",
        "\n",
        "output = np.empty([length, 2])\n",
        "gt = np.empty([length, 2])\n",
        "\n",
        "for img_id in tqdm(range(len(listdir(data_dir)))):\n",
        "  img = cv2.imread(data_dir+str(img_id).zfill(6)+'.png', 0)\n",
        "\n",
        "  vo.update(img, img_id)\n",
        "\n",
        "  cur_t = vo.cur_t\n",
        "  if(img_id > 2):\n",
        "    x, y, z = cur_t[0][0], cur_t[1][0], cur_t[2][0]\n",
        "  else:\n",
        "    x, y, z = 0., 0., 0.\n",
        "\n",
        "  output[img_id, 0], output[img_id, 1] = x, z\n",
        "  gt[img_id, 0], gt[img_id, 1] = vo.trueX, vo.trueZ"
      ],
      "metadata": {
        "colab": {
          "base_uri": "https://localhost:8080/"
        },
        "id": "NNMwNRur9Clt",
        "outputId": "7106ab76-6f31-464f-aef1-6b31cc0373a6"
      },
      "execution_count": null,
      "outputs": [
        {
          "output_type": "stream",
          "name": "stderr",
          "text": [
            "100%|██████████| 4541/4541 [07:00<00:00, 10.81it/s]\n"
          ]
        }
      ]
    },
    {
      "cell_type": "code",
      "source": [
        "fig, ax = plt.subplots(1)\n",
        "\n",
        "ax.scatter(gt[:, 0], gt[:, 1], s=1, marker='x', color='g', linewidths=1)\n",
        "ax.scatter(output[:, 0], output[:, 1], s=1, marker='x', color='r', linewidths=1)\n",
        "\n",
        "plt.show()"
      ],
      "metadata": {
        "colab": {
          "base_uri": "https://localhost:8080/",
          "height": 430
        },
        "id": "A0WLtkkz9gue",
        "outputId": "f977a11b-572d-492e-c9ea-6606dcc56644"
      },
      "execution_count": null,
      "outputs": [
        {
          "output_type": "display_data",
          "data": {
            "text/plain": [
              "<Figure size 640x480 with 1 Axes>"
            ],
            "image/png": "[encoded data removed]"
          },
          "metadata": {}
        }
      ]
    }
  ]
}