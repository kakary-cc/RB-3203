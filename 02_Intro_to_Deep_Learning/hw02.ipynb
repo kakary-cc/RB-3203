{
  "cells": [
    {
      "cell_type": "markdown",
      "metadata": {
        "id": "-CKvVIhVhp8r"
      },
      "source": [
        "Today is a brief introduction to PyTorch. PyTorch is a library mainly for Deep learning.\n",
        "\n",
        "At its core it does two main things:\n",
        "1. manipulates the so-called tensor data structure on GPU, just like NumPy can manipulate ndarray on CPU.\n",
        "2. provides a automatic differentiation engine and some convenient helper functions for deep learning"
      ]
    },
    {
      "cell_type": "markdown",
      "metadata": {
        "id": "djMGB967jFOM"
      },
      "source": [
        "# 0. Introduction and Importing"
      ]
    },
    {
      "cell_type": "markdown",
      "metadata": {
        "id": "XGqYaWG6d-qB"
      },
      "source": [
        "First we import the most fundamental packages/modules of PyTorch. Whenever we work with PyTorch, we mostly likely need to import these."
      ]
    },
    {
      "cell_type": "code",
      "execution_count": 1,
      "metadata": {
        "id": "qWe9B1crWuCS"
      },
      "outputs": [],
      "source": [
        "import torch # a Tensor library like NumPy, with strong GPU support\n",
        "import torch.optim as optim # functions related to optimization algorithms\n",
        "\n",
        "import torch.nn as nn # a neural networks library deeply integrated with autograd designed for maximum flexibility\n",
        "import torch.nn.functional as F\n",
        "# nn and nn.functional works kinda similarly. If you are interested in their subtile difference, please check out this discussion https://discuss.pytorch.org/t/what-is-the-difference-between-torch-nn-and-torch-nn-functional/33597\n",
        "\n",
        "import torch.utils.data as data # utility functions such as DataLoader"
      ]
    },
    {
      "cell_type": "markdown",
      "metadata": {
        "id": "VgLhlgMyhC8f"
      },
      "source": [
        "Tensor is a mathematical object that is simply the generalization of a matrix (2D) to N-dim. A grayscale image is a matrix, but a colored image with 3 channels can be thought of a tensor."
      ]
    },
    {
      "cell_type": "markdown",
      "metadata": {
        "id": "lsLBG41QhlbN"
      },
      "source": [
        "Check if we are using GPU. Computation will be very slow if not."
      ]
    },
    {
      "cell_type": "code",
      "execution_count": 2,
      "metadata": {
        "colab": {
          "base_uri": "https://localhost:8080/"
        },
        "id": "Gf9efIR5gyGW",
        "outputId": "5f02c675-d556-4547-cf26-ec2a61566687"
      },
      "outputs": [
        {
          "data": {
            "text/plain": [
              "True"
            ]
          },
          "execution_count": 2,
          "metadata": {},
          "output_type": "execute_result"
        }
      ],
      "source": [
        "torch.cuda.is_available()"
      ]
    },
    {
      "cell_type": "markdown",
      "metadata": {
        "id": "O3AGCXyLhsyk"
      },
      "source": [
        "In most cases, it would say False. If so, at the top left corner, select \"Runtime-Change runtime type-Hardware accelerator-GPU\" and redo the import again."
      ]
    },
    {
      "cell_type": "markdown",
      "metadata": {
        "id": "v7hlmfrMfRMG"
      },
      "source": [
        "Next we import some vision-related packges"
      ]
    },
    {
      "cell_type": "code",
      "execution_count": 3,
      "metadata": {
        "id": "LAjynXOBd90G"
      },
      "outputs": [],
      "source": [
        "import torchvision.transforms as transforms\n",
        "import torchvision.datasets as datasets"
      ]
    },
    {
      "cell_type": "markdown",
      "metadata": {
        "id": "smqAg7PrgVcp"
      },
      "source": [
        "Finally some generic helper packages"
      ]
    },
    {
      "cell_type": "code",
      "execution_count": 4,
      "metadata": {
        "id": "4dsWSdiOgUe2"
      },
      "outputs": [],
      "source": [
        "from sklearn.metrics import confusion_matrix\n",
        "from sklearn.metrics import ConfusionMatrixDisplay\n",
        "import matplotlib.pyplot as plt\n",
        "import numpy as np\n",
        "\n",
        "import copy\n",
        "import random\n",
        "import time\n",
        "import cv2"
      ]
    },
    {
      "cell_type": "code",
      "execution_count": 5,
      "metadata": {
        "id": "E_q4x-RjUMZs"
      },
      "outputs": [],
      "source": [
        "SEED = 1234\n",
        "\n",
        "device = torch.device('cuda' if torch.cuda.is_available() else 'cpu')\n",
        "random.seed(SEED)\n",
        "np.random.seed(SEED)\n",
        "torch.manual_seed(SEED)\n",
        "torch.cuda.manual_seed(SEED)\n",
        "torch.backends.cudnn.deterministic = True"
      ]
    },
    {
      "cell_type": "markdown",
      "metadata": {
        "id": "JNpJv_T8DKYt"
      },
      "source": [
        "# 1. Using Pretrained Network"
      ]
    },
    {
      "cell_type": "markdown",
      "metadata": {
        "id": "5FSux3ZENii5"
      },
      "source": [
        "We can download existing models online. Many landmark models available [here](https://pytorch.org/vision/stable/models.html#classification)!"
      ]
    },
    {
      "cell_type": "code",
      "execution_count": 6,
      "metadata": {
        "colab": {
          "base_uri": "https://localhost:8080/"
        },
        "id": "lrNQM12yNii5",
        "outputId": "b2ad7b5b-0a80-41f4-ac71-41a2bc73c033"
      },
      "outputs": [
        {
          "name": "stderr",
          "output_type": "stream",
          "text": [
            "c:\\Users\\Admin\\AppData\\Local\\Programs\\Python\\Python39\\lib\\site-packages\\torchvision\\models\\_utils.py:208: UserWarning: The parameter 'pretrained' is deprecated since 0.13 and may be removed in the future, please use 'weights' instead.\n",
            "  warnings.warn(\n",
            "c:\\Users\\Admin\\AppData\\Local\\Programs\\Python\\Python39\\lib\\site-packages\\torchvision\\models\\_utils.py:223: UserWarning: Arguments other than a weight enum or `None` for 'weights' are deprecated since 0.13 and may be removed in the future. The current behavior is equivalent to passing `weights=ResNet18_Weights.IMAGENET1K_V1`. You can also use `weights=ResNet18_Weights.DEFAULT` to get the most up-to-date weights.\n",
            "  warnings.warn(msg)\n"
          ]
        }
      ],
      "source": [
        "import torchvision.models as models\n",
        "from PIL import Image\n",
        "resnet18_model = models.resnet18(pretrained=True)\n",
        "resnet18_model = resnet18_model.to(device)\n",
        "resnet18_model.eval()\n",
        "\n",
        "\n",
        "def prepare_an_img_resnet(img):\n",
        "  preprocess = transforms.Compose([\n",
        "    transforms.Resize(256),\n",
        "    transforms.CenterCrop(224),\n",
        "    transforms.ToTensor(),\n",
        "    transforms.Normalize(mean=[0.485, 0.456, 0.406], std=[0.229, 0.224, 0.225]),])\n",
        "\n",
        "  img = Image.open(img)\n",
        "  img = preprocess(img)\n",
        "  img = torch.unsqueeze(img, 0)\n",
        "  return img"
      ]
    },
    {
      "cell_type": "code",
      "execution_count": 7,
      "metadata": {
        "id": "vJR45fd9Vi99"
      },
      "outputs": [],
      "source": [
        "#Try with an image of a cute cat!\n",
        "with torch.no_grad():\n",
        "    output = resnet18_model(prepare_an_img_resnet('cat.jpg').to(device)) #inference\n",
        "\n",
        "#Post processing - squeeze the outputs so they sum to 1 (corresponds to probabilities)\n",
        "probabilities = torch.nn.functional.softmax(output[0], dim=0)"
      ]
    },
    {
      "cell_type": "markdown",
      "metadata": {
        "id": "6yDEqlO2V5bW"
      },
      "source": [
        "Next, we download the ImageNet labels so we can map the outputs -> classes.\n",
        "\n",
        "Why ImageNet? Because the underlying model ResNet18 is trained with ImageNet!"
      ]
    },
    {
      "cell_type": "code",
      "execution_count": 8,
      "metadata": {
        "id": "QXEcVzt4Dz49"
      },
      "outputs": [],
      "source": [
        "# Download ImageNet labels - Why? Because the underlying model ResNet18 is trained with ImageNet!\n",
        "# !wget https://raw.githubusercontent.com/pytorch/hub/master/imagenet_classes.txt\n",
        "!powershell curl -o \"imagenet_classes.txt\" \"https://raw.githubusercontent.com/pytorch/hub/master/imagenet_classes.txt\"\n",
        "\n",
        "# Read the categories\n",
        "with open(\"imagenet_classes.txt\", \"r\") as f:\n",
        "    categories = [s.strip() for s in f.readlines()]"
      ]
    },
    {
      "cell_type": "code",
      "execution_count": 9,
      "metadata": {
        "colab": {
          "base_uri": "https://localhost:8080/"
        },
        "id": "YY2WCxPgVecn",
        "outputId": "89c210da-3a69-41a0-d732-3821e142e22e"
      },
      "outputs": [
        {
          "name": "stdout",
          "output_type": "stream",
          "text": [
            "Egyptian cat 0.30771493911743164\n",
            "Siamese cat 0.16847610473632812\n",
            "Angora 0.12687383592128754\n",
            "tabby 0.07219374179840088\n",
            "hamper 0.04246131703257561\n"
          ]
        }
      ],
      "source": [
        "# Show top categories per image\n",
        "top5_prob, top5_catid = torch.topk(probabilities, 5)\n",
        "for i in range(top5_prob.size(0)):\n",
        "    print(categories[top5_catid[i]], top5_prob[i].item())"
      ]
    },
    {
      "cell_type": "markdown",
      "metadata": {
        "id": "fCkQaEm3FP4X"
      },
      "source": [
        "There is a lot more can be done here to make the pretrained model predict more labels that it's not included in the ImageNet dataset. The process is called finetuning. We will not introduce it here, but if you are interested, please take a look at this [article](https://pytorch.org/tutorials/beginner/finetuning_torchvision_models_tutorial.html)"
      ]
    },
    {
      "cell_type": "markdown",
      "metadata": {
        "id": "C6p2cyHRjUcF"
      },
      "source": [
        "Now let's work on our own model, we will train a slight variation of a network called *AlexNet*. This is a landmark model in deep learning, and arguably kickstarted the current (and ongoing, and massive) wave of innovation in modern AI in 2012. AlexNet was the first real-world demonstration of a *deep* classifier that was trained end-to-end on data and that outperformed all other ML models thus far.\n",
        "\n",
        "We will train AlexNet using the [CIFAR10](https://www.cs.toronto.edu/~kriz/cifar.html) dataset, which consists of 60000 32x32 colour images in 10 classes, with 6000 images per class. The classes are: airplane, automobile, bird, cat, deer, dog, frog, horse, ship, truck."
      ]
    },
    {
      "cell_type": "markdown",
      "metadata": {
        "id": "xpOMJ4GdqWhR"
      },
      "source": [
        "# 2. Data Loading and Pre-processing"
      ]
    },
    {
      "cell_type": "markdown",
      "metadata": {
        "id": "SaIK2QlYvDOk"
      },
      "source": [
        "We can quickly grab CIFAR-10 via PyTorch. We can do so because\n",
        "1. PyTorch comes with simple API to fetch well known datasets.\n",
        "2. CIFAR-10 is pretty much a classic at this point.\n",
        "\n",
        "> **Note that NOT ALL datasets can be accessed this way**\n",
        "\n",
        "To know what datasets is \"included\" with PyTorch, checkout the following links!\n",
        "1. [Image Datasets](https://pytorch.org/vision/stable/datasets.html)\n",
        "2. [Text Datasets](https://pytorch.org/text/stable/datasets.html)\n",
        "3. [Audio Datasets](https://pytorch.org/audio/stable/datasets.html)"
      ]
    },
    {
      "cell_type": "code",
      "execution_count": 10,
      "metadata": {
        "colab": {
          "base_uri": "https://localhost:8080/"
        },
        "id": "qtTTbG8PqatN",
        "outputId": "00788d63-8718-4ad7-d514-8763e31acf3a"
      },
      "outputs": [
        {
          "name": "stdout",
          "output_type": "stream",
          "text": [
            "Files already downloaded and verified\n"
          ]
        }
      ],
      "source": [
        "#Download the dataset and load with PyTorch API\n",
        "ROOT = '.data'\n",
        "train_data = datasets.CIFAR10(root = ROOT,\n",
        "                              train = True,\n",
        "                              download = True)"
      ]
    },
    {
      "cell_type": "markdown",
      "metadata": {
        "id": "vX4-4SSvzV48"
      },
      "source": [
        "### Data augmentation"
      ]
    },
    {
      "cell_type": "markdown",
      "metadata": {
        "id": "-Ai0BCAywLpR"
      },
      "source": [
        "Next, we will do data augmentation. DL models are data hungry. A good trick to increse the size of dataset without the hardwork of acquiring/labeling more data is data augmentation.\n",
        "\n",
        "For each training image we will randomly rotate it (by up to 5 degrees), flip/mirror with probability 0.5, shift by +/-1 pixel."
      ]
    },
    {
      "cell_type": "code",
      "execution_count": 11,
      "metadata": {
        "id": "tFFyizg1u3cI"
      },
      "outputs": [],
      "source": [
        "# here we compose all the data augmentation actions we want to do.\n",
        "# note that there is no need to do data augmentation on the testing set.\n",
        "train_transforms = [transforms.RandomRotation(5),\n",
        "                  transforms.RandomHorizontalFlip(0.5),\n",
        "                  transforms.RandomCrop(32, padding = 2),\n",
        "                  transforms.ToTensor()]"
      ]
    },
    {
      "cell_type": "markdown",
      "metadata": {
        "id": "o5n3Sg6hwQU6"
      },
      "source": [
        "### Normalization and Standardization"
      ]
    },
    {
      "cell_type": "markdown",
      "metadata": {
        "id": "P1JBV7Niy-FA"
      },
      "source": [
        "To put it simple:\n",
        "\n",
        "***normalize***: making your data range in [0, 1]\n",
        "\n",
        "**standardize**: making your data's mean=0 and std=1\n",
        "\n",
        "In modern deep learning, sometimes it's often okay if you don't do these, but they will often help with faster training and better accuracy. For a more detailed explanation on the benefits, please see this [article](https://stats.stackexchange.com/questions/185853/why-do-we-need-to-normalize-the-images-before-we-put-them-into-cnn)."
      ]
    },
    {
      "cell_type": "markdown",
      "metadata": {
        "id": "awBWa_z1vPWI"
      },
      "source": [
        "Calculate the mean and standard deviation of pixel values so we can standardize the dataset later."
      ]
    },
    {
      "cell_type": "code",
      "execution_count": 12,
      "metadata": {
        "id": "NA1sYQpjq43q"
      },
      "outputs": [],
      "source": [
        "means = train_data.data.mean(axis = (0,1,2)) / 255\n",
        "stds = train_data.data.std(axis = (0,1,2)) / 255"
      ]
    },
    {
      "cell_type": "code",
      "execution_count": 13,
      "metadata": {
        "id": "OGF8iIM55GKG"
      },
      "outputs": [],
      "source": [
        "# append the standardization to the list of transformations we want to do.\n",
        "train_transforms.append(transforms.Normalize(mean = means, std = stds))\n",
        "train_transforms = transforms.Compose(train_transforms)\n",
        "\n",
        "test_transforms = transforms.Compose([\n",
        "                           transforms.ToTensor(),\n",
        "                           transforms.Normalize(mean = means,\n",
        "                                                std = stds)\n",
        "                       ])"
      ]
    },
    {
      "cell_type": "code",
      "execution_count": 14,
      "metadata": {
        "colab": {
          "base_uri": "https://localhost:8080/"
        },
        "id": "Q8fCULWN43Ev",
        "outputId": "e4e8724c-fa95-4965-82a7-be06b6155a2e"
      },
      "outputs": [
        {
          "data": {
            "text/plain": [
              "Compose(\n",
              "    RandomRotation(degrees=[-5.0, 5.0], interpolation=nearest, expand=False, fill=0)\n",
              "    RandomHorizontalFlip(p=0.5)\n",
              "    RandomCrop(size=(32, 32), padding=2)\n",
              "    ToTensor()\n",
              "    Normalize(mean=[0.49139968 0.48215841 0.44653091], std=[0.24703223 0.24348513 0.26158784])\n",
              ")"
            ]
          },
          "execution_count": 14,
          "metadata": {},
          "output_type": "execute_result"
        }
      ],
      "source": [
        "train_transforms"
      ]
    },
    {
      "cell_type": "markdown",
      "metadata": {
        "id": "uDI70sRs608G"
      },
      "source": [
        "Apply these transformations on our training set and testing set separately"
      ]
    },
    {
      "cell_type": "code",
      "execution_count": 15,
      "metadata": {
        "colab": {
          "base_uri": "https://localhost:8080/"
        },
        "id": "JrJDsI2l0zTm",
        "outputId": "14d9c137-51f1-412d-f101-d7742e307a92"
      },
      "outputs": [
        {
          "name": "stdout",
          "output_type": "stream",
          "text": [
            "Files already downloaded and verified\n",
            "Files already downloaded and verified\n"
          ]
        }
      ],
      "source": [
        "train_data = datasets.CIFAR10(ROOT,\n",
        "                              train = True,\n",
        "                              download = True,\n",
        "                              transform = train_transforms)\n",
        "\n",
        "test_data = datasets.CIFAR10(ROOT,\n",
        "                             train = False,\n",
        "                             download = True,\n",
        "                             transform = test_transforms)"
      ]
    },
    {
      "cell_type": "markdown",
      "metadata": {
        "id": "1A2mJhMk1i5W"
      },
      "source": [
        "Leave out 10% of data from the training set as the validation set. The model won't train on the validation set, but only do inference on it.\n",
        "\n",
        "Validation set is similar to test set (hence the similar transformations), but it's a good practice to only run your model on test set for only **once**, and use your validation set as a gauge of how well your model generalize while tweaking hyper-parameters"
      ]
    },
    {
      "cell_type": "code",
      "execution_count": 16,
      "metadata": {
        "id": "dlVWx2lL06ez"
      },
      "outputs": [],
      "source": [
        "VALID_RATIO = 0.9\n",
        "\n",
        "n_train_examples = int(len(train_data) * VALID_RATIO)\n",
        "n_valid_examples = len(train_data) - n_train_examples\n",
        "\n",
        "train_data, valid_data = data.random_split(train_data,\n",
        "                                           [n_train_examples, n_valid_examples])\n",
        "\n",
        "valid_data = copy.deepcopy(valid_data)\n",
        "valid_data.dataset.transform = test_transforms"
      ]
    },
    {
      "cell_type": "markdown",
      "metadata": {
        "id": "DqV-fePO7j0r"
      },
      "source": [
        "The final step is to create a DataLoader object.\n",
        "\n",
        "DataLoader object can be thought of as an iterator we use in Python. Deep learning dataset are usually too large to fit on memory (RAM, usually 8GB to 32GB) entirely, so we want to have a DataLoader that can spit out a fixed size of the dataset every time we need more data to process.\n",
        "\n",
        "Batch_size can be thought of the number of data point we will ask the DataLoader to spit out. After DataLoader spit out a chunk partitioned from the entire dataset, we will send it to GPU's memory (VRAM) so GPU can work on it. Similarly, GPU has limited memory, usually ranging from a few GB to 40GB, so the number should be adjusted according to the VRAM of your GPU."
      ]
    },
    {
      "cell_type": "code",
      "execution_count": 17,
      "metadata": {
        "id": "keiPsUdw7Kn5"
      },
      "outputs": [],
      "source": [
        "# ---HIGHLIGHT---\n",
        "# BATCH_SIZE = 64\n",
        "BATCH_SIZE = 256\n",
        "\n",
        "# we only shuffle the training set\n",
        "train_iterator = torch.utils.data.DataLoader(train_data,\n",
        "                                             batch_size=BATCH_SIZE,\n",
        "                                             shuffle=True,\n",
        "                                             num_workers=2,\n",
        "                                             )\n",
        "\n",
        "valid_iterator = torch.utils.data.DataLoader(valid_data,\n",
        "                                             batch_size=BATCH_SIZE,\n",
        "                                             shuffle=False)\n",
        "\n",
        "test_iterator = torch.utils.data.DataLoader(test_data,\n",
        "                                            batch_size=BATCH_SIZE,\n",
        "                                            shuffle=False)"
      ]
    },
    {
      "cell_type": "markdown",
      "metadata": {
        "id": "xDZArR_ADhrd"
      },
      "source": [
        "# 3. Defining the Model"
      ]
    },
    {
      "cell_type": "markdown",
      "metadata": {
        "id": "gQEu9M04EiHC"
      },
      "source": [
        "Next up is defining the model.\n",
        "\n",
        "AlexNet will have the following architecture:\n",
        "\n",
        "* There are 5 2D convolutional layers (which serve as *feature extractors*), followed by 3 linear layers (which serve as the *classifier*).\n",
        "* All layers (except the last one) have `ReLU` activations. (Use `inplace=True` while defining your ReLUs.)\n",
        "* All convolutional filter sizes have kernel size 3 x 3 and padding 1.\n",
        "* Convolutional layer 1 has stride 2. All others have the default stride (1).\n",
        "* Convolutional layers 1,2, and 5 are followed by a 2D maxpool of size 2.\n",
        "* Linear layers 1 and 2 are preceded by Dropouts with Bernoulli parameter 0.5.\n",
        "\n",
        "* For the convolutional layers, the number of channels is set as follows. We start with 3 channels and then proceed like this:\n",
        "\n",
        "  - $3 \\rightarrow 64 \\rightarrow 192 \\rightarrow384 \\rightarrow256 \\rightarrow 256$\n",
        "\n",
        "  In the end, if everything is correct you should get a feature map of size $2\\times2 \\times 256 = 1024$.\n",
        "\n",
        "* For the linear layers, the feature sizes are as follows:\n",
        "\n",
        "  - $1024 \\rightarrow 4096 \\rightarrow 4096 \\rightarrow 10$.\n",
        "\n",
        "  (The 10, of course, is because 10 is the number of classes in CIFAR-10)."
      ]
    },
    {
      "cell_type": "markdown",
      "metadata": {
        "id": "XwqauPqTHOu0"
      },
      "source": [
        "The PyTorch syntax for a 2d convolution layer is `torch.nn.Conv2d(in_channels, out_channels, kernel_size, ...)`. You may notice that we do not have a parameter that directly controls the dimension of the output image produced by the convolution operation. The formula to compute such number can be found at the very bottom of [this doc](https://pytorch.org/docs/stable/generated/torch.nn.Conv2d.html)."
      ]
    },
    {
      "cell_type": "code",
      "execution_count": 18,
      "metadata": {
        "id": "7kLU8NbGDgQe"
      },
      "outputs": [],
      "source": [
        "class AlexNet_1(nn.Module):\n",
        "    def __init__(self, output_dim):\n",
        "        super().__init__()\n",
        "\n",
        "        self.features = nn.Sequential(\n",
        "            # define according to the steps described above\n",
        "            # 1 conv\n",
        "            nn.Conv2d(in_channels=3,\n",
        "                      out_channels=64,\n",
        "                      kernel_size=3,\n",
        "                      stride=2,\n",
        "                      padding=1),\n",
        "            nn.MaxPool2d(kernel_size=2, stride=2),\n",
        "            nn.ReLU(inplace=True),\n",
        "            # 2 conv\n",
        "            nn.Conv2d(in_channels=64,\n",
        "                      out_channels=192,\n",
        "                      kernel_size=3,\n",
        "                      stride=1,\n",
        "                      padding=1),\n",
        "            nn.MaxPool2d(kernel_size=2, stride=2),\n",
        "            nn.ReLU(inplace=True),\n",
        "            # 3 conv\n",
        "            nn.Conv2d(in_channels=192,\n",
        "                      out_channels=384,\n",
        "                      kernel_size=3,\n",
        "                      stride=1,\n",
        "                      padding=1),\n",
        "            nn.ReLU(inplace=True),\n",
        "            # 4 conv\n",
        "            nn.Conv2d(in_channels=384,\n",
        "                      out_channels=256,\n",
        "                      kernel_size=3,\n",
        "                      stride=1,\n",
        "                      padding=1),\n",
        "            nn.ReLU(inplace=True),\n",
        "            # 5 conv\n",
        "            nn.Conv2d(in_channels=256,\n",
        "                      out_channels=256,\n",
        "                      kernel_size=3,\n",
        "                      stride=1,\n",
        "                      padding=1),\n",
        "            nn.MaxPool2d(kernel_size=2, stride=2),\n",
        "            nn.ReLU(inplace=True),\n",
        "        )\n",
        "\n",
        "        self.classifier = nn.Sequential(\n",
        "            # define according to the steps described above\n",
        "            # 1 linear\n",
        "            nn.Dropout(p=0.5),\n",
        "            nn.Linear(1024, 4096),\n",
        "            nn.ReLU(inplace=True),\n",
        "            # 2 linear\n",
        "            nn.Dropout(p=0.5),\n",
        "            nn.Linear(4096, 4096),\n",
        "            nn.ReLU(inplace=True),\n",
        "            nn.Linear(4096, output_dim),\n",
        "        )\n",
        "\n",
        "    def forward(self, x):\n",
        "        x = self.features(x)\n",
        "        h = x.view(x.shape[0], -1)\n",
        "        x = self.classifier(h)\n",
        "        return x, h"
      ]
    },
    {
      "cell_type": "code",
      "execution_count": 19,
      "metadata": {
        "id": "mlGAMftISpL0"
      },
      "outputs": [],
      "source": [
        "OUTPUT_DIM = 10 #10 classes for CIFAR10\n",
        "model1 = AlexNet_1(OUTPUT_DIM)"
      ]
    },
    {
      "cell_type": "markdown",
      "metadata": {
        "id": "gnA2L525TH4d"
      },
      "source": [
        "Another equivalent way of defining the network looks like this:"
      ]
    },
    {
      "cell_type": "code",
      "execution_count": 20,
      "metadata": {
        "id": "BwuM8xT9THVP"
      },
      "outputs": [],
      "source": [
        "class AlexNet_2(nn.Module):\n",
        "    def __init__(self, output_dim):\n",
        "      super().__init__()\n",
        "        # 1 conv\n",
        "      self.conv1 = nn.Conv2d(in_channels=3,\n",
        "                      out_channels=64,\n",
        "                      kernel_size=3,\n",
        "                      stride=2,\n",
        "                      padding=1)\n",
        "\n",
        "      self.maxpool1 = nn.MaxPool2d(kernel_size=2, stride=2)\n",
        "\n",
        "      self.conv2 = nn.Conv2d(in_channels=64,\n",
        "                      out_channels=192,\n",
        "                      kernel_size=3,\n",
        "                      stride=1,\n",
        "                      padding=1)\n",
        "      self.maxpool2 = nn.MaxPool2d(kernel_size=2, stride=2)\n",
        "\n",
        "        # 3 conv\n",
        "      self.conv3 = nn.Conv2d(in_channels=192,\n",
        "                      out_channels=384,\n",
        "                      kernel_size=3,\n",
        "                      stride=1,\n",
        "                      padding=1)\n",
        "\n",
        "        # 4 conv\n",
        "      self.conv4 = nn.Conv2d(in_channels=384,\n",
        "                      out_channels=256,\n",
        "                      kernel_size=3,\n",
        "                      stride=1,\n",
        "                      padding=1)\n",
        "\n",
        "      self.conv5 = nn.Conv2d(in_channels=256,\n",
        "                      out_channels=256,\n",
        "                      kernel_size=3,\n",
        "                      stride=1,\n",
        "                      padding=1)\n",
        "      self.maxpool3 = nn.MaxPool2d(kernel_size=2, stride=2)\n",
        "\n",
        "\n",
        "      self.classifier = nn.Sequential(\n",
        "            # define according to the steps described above\n",
        "            # 1 linear\n",
        "            nn.Dropout(p=0.5),\n",
        "            nn.Linear(1024, 4096),\n",
        "            nn.ReLU(inplace=True),\n",
        "            # 2 linear\n",
        "            nn.Dropout(p=0.5),\n",
        "            nn.Linear(4096, 4096),\n",
        "            nn.ReLU(inplace=True),\n",
        "            nn.Linear(4096, output_dim),\n",
        "        )\n",
        "\n",
        "    def forward(self, x):\n",
        "      # first conv layer\n",
        "      x = self.conv1(x)\n",
        "      x = self.maxpool1(x)\n",
        "      x = F.relu(x)\n",
        "\n",
        "      # second conv layer\n",
        "      x = self.conv2(x)\n",
        "      x = self.maxpool2(x)\n",
        "      x = F.relu(x)\n",
        "\n",
        "      # third conv layer\n",
        "      x = self.conv3(x)\n",
        "      x = F.relu(x)\n",
        "\n",
        "      # fourth conv layer\n",
        "      x = self.conv4(x)\n",
        "      x = F.relu(x)\n",
        "\n",
        "      # second conv layer\n",
        "      x = self.conv5(x)\n",
        "      x = self.maxpool3(x)\n",
        "      x = F.relu(x)\n",
        "\n",
        "      h = x.view(x.shape[0], -1)\n",
        "      x = self.classifier(h)\n",
        "      return x, h"
      ]
    },
    {
      "cell_type": "code",
      "execution_count": 21,
      "metadata": {
        "id": "uUgg5fl8kexf"
      },
      "outputs": [],
      "source": [
        "OUTPUT_DIM = 10 #10 classes for CIFAR10\n",
        "model2 = AlexNet_2(OUTPUT_DIM)"
      ]
    },
    {
      "cell_type": "markdown",
      "metadata": {
        "id": "OwrsrJnsj5gL"
      },
      "source": [
        "You may notice that we almost exclusively use 3*3 kernel(filter). I personally don't know if there is any theoretical benefit, but here is a article summarizing the [heuristics](https://medium.com/analytics-vidhya/how-to-choose-the-size-of-the-convolution-filter-or-kernel-size-for-cnn-86a55a1e2d15) around it. An excellent class note from Stanford's CS231n also does a great job discussing this at the end of the [article](https://cs231n.github.io/convolutional-networks/#architectures)."
      ]
    },
    {
      "cell_type": "markdown",
      "metadata": {
        "id": "mZesQ1SDkSSa"
      },
      "source": [
        "We also have many channels, even though a typical image only has 3 channels. This is because by the formula above, the number of kernel we can have is related to number of the output channel. We want more kernels so they can learn different important things:![weights.jpeg](data:image/jpeg;base64,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)"
      ]
    },
    {
      "cell_type": "markdown",
      "metadata": {
        "id": "8RrEdJdnmMXt"
      },
      "source": [
        "Note that how some of the kernels performs like edge detectors, but for different kind of edges."
      ]
    },
    {
      "cell_type": "markdown",
      "metadata": {
        "id": "OqQITHTqlmkZ"
      },
      "source": [
        "# 4. Training the Model"
      ]
    },
    {
      "cell_type": "markdown",
      "metadata": {
        "id": "Aloe90T5vfvB"
      },
      "source": [
        "Before we start the training, we will need to initialize our models. To put it simple, we are assigning the intial values of weight. We could just assign them all 0 to start with, and it would work. But data scientists have come up with smarter ways to to this to make things work even better.\n",
        "\n",
        "For convolutional layers we will initialize using the *Kaiming Normal* scheme, also known as *He Normal*. For the linear layers we initialize using the *Xavier Normal* scheme, also known as *Glorot Normal*. For both types of layer we initialize the bias terms to zeros."
      ]
    },
    {
      "cell_type": "code",
      "execution_count": 22,
      "metadata": {
        "id": "f7S-Sdh6klGx"
      },
      "outputs": [],
      "source": [
        "def initialize_parameters(m):\n",
        "    if isinstance(m, nn.Conv2d):\n",
        "        nn.init.kaiming_normal_(m.weight.data, nonlinearity = 'relu')\n",
        "        nn.init.constant_(m.bias.data, 0)\n",
        "    elif isinstance(m, nn.Linear):\n",
        "        nn.init.xavier_normal_(m.weight.data, gain = nn.init.calculate_gain('relu'))\n",
        "        nn.init.constant_(m.bias.data, 0)"
      ]
    },
    {
      "cell_type": "code",
      "execution_count": 23,
      "metadata": {
        "colab": {
          "base_uri": "https://localhost:8080/"
        },
        "id": "pHbVRRa-nB_n",
        "outputId": "782cc203-983b-4e70-d9b5-dd6b623e32ef"
      },
      "outputs": [
        {
          "data": {
            "text/plain": [
              "AlexNet_1(\n",
              "  (features): Sequential(\n",
              "    (0): Conv2d(3, 64, kernel_size=(3, 3), stride=(2, 2), padding=(1, 1))\n",
              "    (1): MaxPool2d(kernel_size=2, stride=2, padding=0, dilation=1, ceil_mode=False)\n",
              "    (2): ReLU(inplace=True)\n",
              "    (3): Conv2d(64, 192, kernel_size=(3, 3), stride=(1, 1), padding=(1, 1))\n",
              "    (4): MaxPool2d(kernel_size=2, stride=2, padding=0, dilation=1, ceil_mode=False)\n",
              "    (5): ReLU(inplace=True)\n",
              "    (6): Conv2d(192, 384, kernel_size=(3, 3), stride=(1, 1), padding=(1, 1))\n",
              "    (7): ReLU(inplace=True)\n",
              "    (8): Conv2d(384, 256, kernel_size=(3, 3), stride=(1, 1), padding=(1, 1))\n",
              "    (9): ReLU(inplace=True)\n",
              "    (10): Conv2d(256, 256, kernel_size=(3, 3), stride=(1, 1), padding=(1, 1))\n",
              "    (11): MaxPool2d(kernel_size=2, stride=2, padding=0, dilation=1, ceil_mode=False)\n",
              "    (12): ReLU(inplace=True)\n",
              "  )\n",
              "  (classifier): Sequential(\n",
              "    (0): Dropout(p=0.5, inplace=False)\n",
              "    (1): Linear(in_features=1024, out_features=4096, bias=True)\n",
              "    (2): ReLU(inplace=True)\n",
              "    (3): Dropout(p=0.5, inplace=False)\n",
              "    (4): Linear(in_features=4096, out_features=4096, bias=True)\n",
              "    (5): ReLU(inplace=True)\n",
              "    (6): Linear(in_features=4096, out_features=10, bias=True)\n",
              "  )\n",
              ")"
            ]
          },
          "execution_count": 23,
          "metadata": {},
          "output_type": "execute_result"
        }
      ],
      "source": [
        "model1.apply(initialize_parameters)"
      ]
    },
    {
      "cell_type": "code",
      "execution_count": 24,
      "metadata": {
        "colab": {
          "base_uri": "https://localhost:8080/"
        },
        "id": "pfcdeg-PnEtX",
        "outputId": "ca2ab5d2-1d4b-4e4c-a54e-2a7ad901d1b5"
      },
      "outputs": [
        {
          "data": {
            "text/plain": [
              "AlexNet_2(\n",
              "  (conv1): Conv2d(3, 64, kernel_size=(3, 3), stride=(2, 2), padding=(1, 1))\n",
              "  (maxpool1): MaxPool2d(kernel_size=2, stride=2, padding=0, dilation=1, ceil_mode=False)\n",
              "  (conv2): Conv2d(64, 192, kernel_size=(3, 3), stride=(1, 1), padding=(1, 1))\n",
              "  (maxpool2): MaxPool2d(kernel_size=2, stride=2, padding=0, dilation=1, ceil_mode=False)\n",
              "  (conv3): Conv2d(192, 384, kernel_size=(3, 3), stride=(1, 1), padding=(1, 1))\n",
              "  (conv4): Conv2d(384, 256, kernel_size=(3, 3), stride=(1, 1), padding=(1, 1))\n",
              "  (conv5): Conv2d(256, 256, kernel_size=(3, 3), stride=(1, 1), padding=(1, 1))\n",
              "  (maxpool3): MaxPool2d(kernel_size=2, stride=2, padding=0, dilation=1, ceil_mode=False)\n",
              "  (classifier): Sequential(\n",
              "    (0): Dropout(p=0.5, inplace=False)\n",
              "    (1): Linear(in_features=1024, out_features=4096, bias=True)\n",
              "    (2): ReLU(inplace=True)\n",
              "    (3): Dropout(p=0.5, inplace=False)\n",
              "    (4): Linear(in_features=4096, out_features=4096, bias=True)\n",
              "    (5): ReLU(inplace=True)\n",
              "    (6): Linear(in_features=4096, out_features=10, bias=True)\n",
              "  )\n",
              ")"
            ]
          },
          "execution_count": 24,
          "metadata": {},
          "output_type": "execute_result"
        }
      ],
      "source": [
        "model2.apply(initialize_parameters)"
      ]
    },
    {
      "cell_type": "markdown",
      "metadata": {
        "id": "hMsccWk-yCcQ"
      },
      "source": [
        "Next we create a optimizer and loss function.\n",
        "\n",
        "Here the optimzer is called Adam. It's a slightly more advanced version of the common optimization algorithm called gradient descent. There are a few other optimizers out there, but for most common tasks we will just use Adam.\n",
        "\n",
        "The loss function is the cross entropy loss. You may notice that in our model definition, there is no activation function for the very last layer. This is because the loss function itself has softmax baked in to do multi-class classification. Part of the design choice is explained [here](https://stackoverflow.com/questions/57516027/does-pytorch-apply-softmax-automatically-in-nn-linear)"
      ]
    },
    {
      "cell_type": "code",
      "execution_count": 25,
      "metadata": {
        "id": "1u1ymYGKnIR6",
        "tags": []
      },
      "outputs": [],
      "source": [
        "# ---HIGHLIGHT---\n",
        "# optimizer = optim.Adam(model1.parameters(), lr = 1e-3)\n",
        "optimizer = optim.Adam(model1.parameters(), lr = 1e-3)\n",
        "device = torch.device('cuda' if torch.cuda.is_available() else 'cpu')\n",
        "criterion = nn.CrossEntropyLoss()\n",
        "\n",
        "model = model1.to(device)\n",
        "criterion = criterion.to(device)"
      ]
    },
    {
      "cell_type": "markdown",
      "metadata": {
        "id": "xE_tiKmt2eXV"
      },
      "source": [
        "We will then need a bunch of boilerplate functions"
      ]
    },
    {
      "cell_type": "code",
      "execution_count": 26,
      "metadata": {
        "id": "V0jR52C4pjcK"
      },
      "outputs": [],
      "source": [
        "def calculate_accuracy(y_pred, y):\n",
        "    top_pred = y_pred.argmax(1, keepdim = True)\n",
        "    correct = top_pred.eq(y.view_as(top_pred)).sum()\n",
        "    acc = correct.float() / y.shape[0]\n",
        "    return acc"
      ]
    },
    {
      "cell_type": "code",
      "execution_count": 27,
      "metadata": {
        "id": "JHM1ZFbCpdy9"
      },
      "outputs": [],
      "source": [
        "def train(model, iterator, optimizer, criterion, device):\n",
        "\n",
        "    epoch_loss = 0\n",
        "    epoch_acc = 0\n",
        "\n",
        "    model.train()\n",
        "\n",
        "    for (x, y) in iterator:\n",
        "\n",
        "        x = x.to(device)\n",
        "        y = y.to(device)\n",
        "\n",
        "        optimizer.zero_grad()\n",
        "\n",
        "        y_pred, _ = model(x)\n",
        "\n",
        "        loss = criterion(y_pred, y)\n",
        "\n",
        "        acc = calculate_accuracy(y_pred, y)\n",
        "\n",
        "        loss.backward()\n",
        "\n",
        "        optimizer.step()\n",
        "\n",
        "        epoch_loss += loss.item()\n",
        "        epoch_acc += acc.item()\n",
        "\n",
        "    return epoch_loss / len(iterator), epoch_acc / len(iterator)"
      ]
    },
    {
      "cell_type": "markdown",
      "metadata": {
        "id": "Lmharc2M3BwT"
      },
      "source": [
        "What we did above:\n",
        "- put our model into train mode with `model.train()`. Some layers should act differently during traning than testing.\n",
        "\n",
        "For each iteration\n",
        "\n",
        "- acquire [batch_size] pairs of (image, label) from the data loader\n",
        "- send the data we just acquired to GPU.\n",
        "- clear the gradients calculated from the last iteration.\n",
        "- pass our batch of images, x, through to model to get predictions, y_pred\n",
        "- calculate the loss between our predictions and the actual labels\n",
        "- calculate the accuracy between our predictions and the actual labels\n",
        "- calculate the gradients of each parameter backward (hence backpropagation)\n",
        "- update the parameters by taking an optimizer step forward\n",
        "- update our metrics"
      ]
    },
    {
      "cell_type": "code",
      "execution_count": 28,
      "metadata": {
        "id": "0kZ4itqIpk5d"
      },
      "outputs": [],
      "source": [
        "def evaluate(model, iterator, criterion, device):\n",
        "\n",
        "    epoch_loss = 0\n",
        "    epoch_acc = 0\n",
        "\n",
        "    model.eval()\n",
        "\n",
        "    with torch.no_grad():\n",
        "\n",
        "        for (x, y) in iterator:\n",
        "\n",
        "            x = x.to(device)\n",
        "            y = y.to(device)\n",
        "\n",
        "            y_pred, _ = model(x)\n",
        "\n",
        "            loss = criterion(y_pred, y)\n",
        "\n",
        "            acc = calculate_accuracy(y_pred, y)\n",
        "\n",
        "            epoch_loss += loss.item()\n",
        "            epoch_acc += acc.item()\n",
        "\n",
        "    return epoch_loss / len(iterator), epoch_acc / len(iterator)"
      ]
    },
    {
      "cell_type": "markdown",
      "metadata": {
        "id": "ol-hETbC74_q"
      },
      "source": [
        "The evaluation loop is similar to the training loop with a few differences:\n",
        "1. we put our model into evaluation mode with `model.eval()` for the same reason above.\n",
        "2. we wrap the iterations inside a `with torch.no_grad()` because for testing time we no longer need to calculate gradient, and we can save memory and computational time for not doing it.\n",
        "3. We also do not need to update our optimizer because we are no longer optimizing our model.\n"
      ]
    },
    {
      "cell_type": "code",
      "execution_count": 29,
      "metadata": {
        "id": "Z6iydGzxqp49"
      },
      "outputs": [],
      "source": [
        "def epoch_time(start_time, end_time):\n",
        "    elapsed_time = end_time - start_time\n",
        "    elapsed_mins = int(elapsed_time / 60)\n",
        "    elapsed_secs = int(elapsed_time - (elapsed_mins * 60))\n",
        "    return elapsed_mins, elapsed_secs"
      ]
    },
    {
      "cell_type": "markdown",
      "metadata": {
        "id": "4VimXR1FYa5A"
      },
      "source": [
        "Finally we can start training.\n",
        "\n",
        "For each epoch, we run through the training process once to update our model. It's important to notice that the entire dataset is being run through once for just 1 training process. Then we use the updated model to run through the evaluation process to get our validation accuracy to gauge how well our model generalizes.\n",
        "\n",
        "We repeat this for 25 epochs here."
      ]
    },
    {
      "cell_type": "code",
      "execution_count": 30,
      "metadata": {
        "colab": {
          "base_uri": "https://localhost:8080/"
        },
        "id": "xFuDHhCXqtFJ",
        "outputId": "573c11b4-ee14-4ee1-c3b2-ec28d82bab1f"
      },
      "outputs": [
        {
          "name": "stdout",
          "output_type": "stream",
          "text": [
            "Epoch: 1/50\n",
            "Training Loss: 2.366082336414944.. Validation Loss: 1.651238876581192\n",
            "Training Accuracy: 0.20936878550459037.. Validtion Accuracy: 0.38393841981887816\n",
            "Time Elapsed: 0 in minute.. 14 in second\n",
            "\n",
            "Epoch: 2/50\n",
            "Training Loss: 1.564362647858533.. Validation Loss: 1.3945197761058807\n",
            "Training Accuracy: 0.42240323160182347.. Validtion Accuracy: 0.48707490861415864\n",
            "Time Elapsed: 0 in minute.. 14 in second\n",
            "\n",
            "Epoch: 3/50\n",
            "Training Loss: 1.3602164895697073.. Validation Loss: 1.2396996855735778\n",
            "Training Accuracy: 0.5060830966315486.. Validtion Accuracy: 0.5561351090669632\n",
            "Time Elapsed: 0 in minute.. 14 in second\n",
            "\n",
            "Epoch: 4/50\n",
            "Training Loss: 1.240431676872752.. Validation Loss: 1.1655790328979492\n",
            "Training Accuracy: 0.5536132810468023.. Validtion Accuracy: 0.5763097435235978\n",
            "Time Elapsed: 0 in minute.. 14 in second\n",
            "\n",
            "Epoch: 5/50\n",
            "Training Loss: 1.1800855960358272.. Validation Loss: 1.0654635190963746\n",
            "Training Accuracy: 0.5787721946835518.. Validtion Accuracy: 0.628515625\n",
            "Time Elapsed: 0 in minute.. 14 in second\n",
            "\n",
            "Epoch: 6/50\n",
            "Training Loss: 1.096012924205173.. Validation Loss: 1.0524130433797836\n",
            "Training Accuracy: 0.6110644530166279.. Validtion Accuracy: 0.634547334909439\n",
            "Time Elapsed: 0 in minute.. 14 in second\n",
            "\n",
            "Epoch: 7/50\n",
            "Training Loss: 1.055320389230143.. Validation Loss: 1.001195815205574\n",
            "Training Accuracy: 0.6264577413147147.. Validtion Accuracy: 0.6521024823188781\n",
            "Time Elapsed: 0 in minute.. 14 in second\n",
            "\n",
            "Epoch: 8/50\n",
            "Training Loss: 1.003745669668371.. Validation Loss: 0.9283200740814209\n",
            "Training Accuracy: 0.6474192115393552.. Validtion Accuracy: 0.6742532163858413\n",
            "Time Elapsed: 0 in minute.. 14 in second\n",
            "\n",
            "Epoch: 9/50\n",
            "Training Loss: 0.965408733961257.. Validation Loss: 0.9079304903745651\n",
            "Training Accuracy: 0.6603604402731765.. Validtion Accuracy: 0.6869255512952804\n",
            "Time Elapsed: 0 in minute.. 14 in second\n",
            "\n",
            "Epoch: 10/50\n",
            "Training Loss: 0.9231930920346216.. Validation Loss: 0.8659884959459305\n",
            "Training Accuracy: 0.6770605468614534.. Validtion Accuracy: 0.6992532163858414\n",
            "Time Elapsed: 0 in minute.. 14 in second\n",
            "\n",
            "Epoch: 11/50\n",
            "Training Loss: 0.893982610580596.. Validation Loss: 0.8756024539470673\n",
            "Training Accuracy: 0.6889284446158193.. Validtion Accuracy: 0.7038258284330368\n",
            "Time Elapsed: 0 in minute.. 14 in second\n",
            "\n",
            "Epoch: 12/50\n",
            "Training Loss: 0.8657001033425331.. Validation Loss: 0.798854210972786\n",
            "Training Accuracy: 0.7006054686551745.. Validtion Accuracy: 0.7243681073188781\n",
            "Time Elapsed: 0 in minute.. 14 in second\n",
            "\n",
            "Epoch: 13/50\n",
            "Training Loss: 0.830549689179117.. Validation Loss: 0.8042627036571502\n",
            "Training Accuracy: 0.7086692117154598.. Validtion Accuracy: 0.727734375\n",
            "Time Elapsed: 0 in minute.. 14 in second\n",
            "\n",
            "Epoch: 14/50\n",
            "Training Loss: 0.8180382173847068.. Validation Loss: 0.792723885178566\n",
            "Training Accuracy: 0.7170419032600793.. Validtion Accuracy: 0.7313419133424759\n",
            "Time Elapsed: 0 in minute.. 15 in second\n",
            "\n",
            "Epoch: 15/50\n",
            "Training Loss: 0.7863729880614714.. Validation Loss: 0.7757840692996979\n",
            "Training Accuracy: 0.726204722781073.. Validtion Accuracy: 0.7330537676811218\n",
            "Time Elapsed: 0 in minute.. 14 in second\n",
            "\n",
            "Epoch: 16/50\n",
            "Training Loss: 0.7651801028034904.. Validation Loss: 0.7823814898729324\n",
            "Training Accuracy: 0.7368243963203647.. Validtion Accuracy: 0.7390854775905609\n",
            "Time Elapsed: 0 in minute.. 14 in second\n",
            "\n",
            "Epoch: 17/50\n",
            "Training Loss: 0.7479279715229165.. Validation Loss: 0.7647199153900146\n",
            "Training Accuracy: 0.7406596233221617.. Validtion Accuracy: 0.74296875\n",
            "Time Elapsed: 0 in minute.. 14 in second\n",
            "\n",
            "Epoch: 18/50\n",
            "Training Loss: 0.7272768718275157.. Validation Loss: 0.7451273739337921\n",
            "Training Accuracy: 0.7494291548024524.. Validtion Accuracy: 0.7505629599094391\n",
            "Time Elapsed: 0 in minute.. 14 in second\n",
            "\n",
            "Epoch: 19/50\n",
            "Training Loss: 0.7229026515375484.. Validation Loss: 0.7593881845474243\n",
            "Training Accuracy: 0.7514009231870825.. Validtion Accuracy: 0.7403952211141587\n",
            "Time Elapsed: 0 in minute.. 14 in second\n",
            "\n",
            "Epoch: 20/50\n",
            "Training Loss: 0.7040612331845544.. Validation Loss: 0.7320074439048767\n",
            "Training Accuracy: 0.7582368606870825.. Validtion Accuracy: 0.7600413590669632\n",
            "Time Elapsed: 0 in minute.. 14 in second\n",
            "\n",
            "Epoch: 21/50\n",
            "Training Loss: 0.6834934766996991.. Validation Loss: 0.7219884783029556\n",
            "Training Accuracy: 0.7637624290179122.. Validtion Accuracy: 0.7577665448188782\n",
            "Time Elapsed: 0 in minute.. 14 in second\n",
            "\n",
            "Epoch: 22/50\n",
            "Training Loss: 0.6685846459797837.. Validation Loss: 0.7223059475421906\n",
            "Training Accuracy: 0.7705078125.. Validtion Accuracy: 0.7548828125\n",
            "Time Elapsed: 0 in minute.. 14 in second\n",
            "\n",
            "Epoch: 23/50\n",
            "Training Loss: 0.664583798836578.. Validation Loss: 0.7201257586479187\n",
            "Training Accuracy: 0.7699636007574472.. Validtion Accuracy: 0.7575712323188781\n",
            "Time Elapsed: 0 in minute.. 14 in second\n",
            "\n",
            "Epoch: 24/50\n",
            "Training Loss: 0.641546386548064.. Validation Loss: 0.7037692785263061\n",
            "Training Accuracy: 0.7785990766503594.. Validtion Accuracy: 0.7683938413858413\n",
            "Time Elapsed: 0 in minute.. 14 in second\n",
            "\n",
            "Epoch: 25/50\n",
            "Training Loss: 0.6280860150740906.. Validation Loss: 0.7028353691101075\n",
            "Training Accuracy: 0.7840553975918076.. Validtion Accuracy: 0.764430147409439\n",
            "Time Elapsed: 0 in minute.. 14 in second\n",
            "\n",
            "Epoch: 26/50\n",
            "Training Loss: 0.614488223567605.. Validation Loss: 0.6780728191137314\n",
            "Training Accuracy: 0.7874351915988055.. Validtion Accuracy: 0.7787683814764023\n",
            "Time Elapsed: 0 in minute.. 14 in second\n",
            "\n",
            "Epoch: 27/50\n",
            "Training Loss: 0.6041988650844856.. Validation Loss: 0.7080177217721939\n",
            "Training Accuracy: 0.7913734018802643.. Validtion Accuracy: 0.7641888797283173\n",
            "Time Elapsed: 0 in minute.. 14 in second\n",
            "\n",
            "Epoch: 28/50\n",
            "Training Loss: 0.6020060195164247.. Validation Loss: 0.6971425086259841\n",
            "Training Accuracy: 0.7921697443181818.. Validtion Accuracy: 0.7681985288858414\n",
            "Time Elapsed: 0 in minute.. 14 in second\n",
            "\n",
            "Epoch: 29/50\n",
            "Training Loss: 0.5912674800916151.. Validation Loss: 0.695025497674942\n",
            "Training Accuracy: 0.7964328835633668.. Validtion Accuracy: 0.7677849262952805\n",
            "Time Elapsed: 0 in minute.. 14 in second\n",
            "\n",
            "Epoch: 30/50\n",
            "Training Loss: 0.5787176894532009.. Validation Loss: 0.674395677447319\n",
            "Training Accuracy: 0.8009419387037103.. Validtion Accuracy: 0.7814568012952805\n",
            "Time Elapsed: 0 in minute.. 14 in second\n",
            "\n",
            "Epoch: 31/50\n",
            "Training Loss: 0.5679053491489454.. Validation Loss: 0.7058953046798706\n",
            "Training Accuracy: 0.8038964843885466.. Validtion Accuracy: 0.7708065271377563\n",
            "Time Elapsed: 0 in minute.. 14 in second\n",
            "\n",
            "Epoch: 32/50\n",
            "Training Loss: 0.5515177913687446.. Validation Loss: 0.6737577348947525\n",
            "Training Accuracy: 0.8112544386901639.. Validtion Accuracy: 0.7836511939764023\n",
            "Time Elapsed: 0 in minute.. 14 in second\n",
            "\n",
            "Epoch: 33/50\n",
            "Training Loss: 0.5503333336250349.. Validation Loss: 0.6625497609376907\n",
            "Training Accuracy: 0.8090642755004492.. Validtion Accuracy: 0.7859030336141586\n",
            "Time Elapsed: 0 in minute.. 14 in second\n",
            "\n",
            "Epoch: 34/50\n",
            "Training Loss: 0.5408868439156901.. Validation Loss: 0.6649373292922973\n",
            "Training Accuracy: 0.8157217682085254.. Validtion Accuracy: 0.7872702211141587\n",
            "Time Elapsed: 0 in minute.. 14 in second\n",
            "\n",
            "Epoch: 35/50\n",
            "Training Loss: 0.5324045236815106.. Validation Loss: 0.6681888222694397\n",
            "Training Accuracy: 0.8171874999322675.. Validtion Accuracy: 0.7793772965669632\n",
            "Time Elapsed: 0 in minute.. 14 in second\n",
            "\n",
            "Epoch: 36/50\n",
            "Training Loss: 0.5147179742767052.. Validation Loss: 0.6469586342573166\n",
            "Training Accuracy: 0.8229074928570878.. Validtion Accuracy: 0.7806525737047195\n",
            "Time Elapsed: 0 in minute.. 14 in second\n",
            "\n",
            "Epoch: 37/50\n",
            "Training Loss: 0.5094555828043006.. Validation Loss: 0.6448932260274887\n",
            "Training Accuracy: 0.8245880681682717.. Validtion Accuracy: 0.7889476090669632\n",
            "Time Elapsed: 0 in minute.. 14 in second\n",
            "\n",
            "Epoch: 38/50\n",
            "Training Loss: 0.5098300645635887.. Validation Loss: 0.645218676328659\n",
            "Training Accuracy: 0.8259712356058034.. Validtion Accuracy: 0.7892693012952805\n",
            "Time Elapsed: 0 in minute.. 14 in second\n",
            "\n",
            "Epoch: 39/50\n",
            "Training Loss: 0.49644905498081987.. Validation Loss: 0.6546686500310898\n",
            "Training Accuracy: 0.8276722299104388.. Validtion Accuracy: 0.7870519310235977\n",
            "Time Elapsed: 0 in minute.. 14 in second\n",
            "\n",
            "Epoch: 40/50\n",
            "Training Loss: 0.48170620863410557.. Validation Loss: 0.6800552487373352\n",
            "Training Accuracy: 0.8337269174781713.. Validtion Accuracy: 0.7769416362047196\n",
            "Time Elapsed: 0 in minute.. 14 in second\n",
            "\n",
            "Epoch: 41/50\n",
            "Training Loss: 0.48353003100915387.. Validation Loss: 0.6800227582454681\n",
            "Training Accuracy: 0.8328089487146247.. Validtion Accuracy: 0.7874195784330368\n",
            "Time Elapsed: 0 in minute.. 14 in second\n",
            "\n",
            "Epoch: 42/50\n",
            "Training Loss: 0.4700112129476937.. Validation Loss: 0.6461042046546936\n",
            "Training Accuracy: 0.8372514203868129.. Validtion Accuracy: 0.7940831810235978\n",
            "Time Elapsed: 0 in minute.. 14 in second\n",
            "\n",
            "Epoch: 43/50\n",
            "Training Loss: 0.4757348896766251.. Validation Loss: 0.6645138293504715\n",
            "Training Accuracy: 0.8365127840502695.. Validtion Accuracy: 0.7859949439764022\n",
            "Time Elapsed: 0 in minute.. 14 in second\n",
            "\n",
            "Epoch: 44/50\n",
            "Training Loss: 0.4682656971907074.. Validation Loss: 0.6648538738489151\n",
            "Training Accuracy: 0.8397594104436311.. Validtion Accuracy: 0.7879940271377563\n",
            "Time Elapsed: 0 in minute.. 14 in second\n",
            "\n",
            "Epoch: 45/50\n",
            "Training Loss: 0.4549515631727197.. Validation Loss: 0.6294526517391205\n",
            "Training Accuracy: 0.8427982953461733.. Validtion Accuracy: 0.7974954038858414\n",
            "Time Elapsed: 0 in minute.. 14 in second\n",
            "\n",
            "Epoch: 46/50\n",
            "Training Loss: 0.4492545881393281.. Validation Loss: 0.6303120970726013\n",
            "Training Accuracy: 0.8455042612146247.. Validtion Accuracy: 0.7941980689764023\n",
            "Time Elapsed: 0 in minute.. 14 in second\n",
            "\n",
            "Epoch: 47/50\n",
            "Training Loss: 0.44176214442334394.. Validation Loss: 0.6439377635717392\n",
            "Training Accuracy: 0.8484588065607981.. Validtion Accuracy: 0.7941061586141587\n",
            "Time Elapsed: 0 in minute.. 14 in second\n",
            "\n",
            "Epoch: 48/50\n",
            "Training Loss: 0.4335179848765785.. Validation Loss: 0.6270191609859467\n",
            "Training Accuracy: 0.8516326346857981.. Validtion Accuracy: 0.7948644310235977\n",
            "Time Elapsed: 0 in minute.. 14 in second\n",
            "\n",
            "Epoch: 49/50\n",
            "Training Loss: 0.42954955622553825.. Validation Loss: 0.6826396435499191\n",
            "Training Accuracy: 0.8526491475376216.. Validtion Accuracy: 0.7900735288858414\n",
            "Time Elapsed: 0 in minute.. 14 in second\n",
            "\n",
            "Epoch: 50/50\n",
            "Training Loss: 0.4295586667616259.. Validation Loss: 0.6549870908260346\n",
            "Training Accuracy: 0.8525230823592707.. Validtion Accuracy: 0.7937385112047195\n",
            "Time Elapsed: 0 in minute.. 14 in second\n",
            "\n"
          ]
        }
      ],
      "source": [
        "# ---HIGHLIGHT---\n",
        "# EPOCHS = 25\n",
        "EPOCHS = 50\n",
        "# used to record history of the traning\n",
        "train_loss_history = []\n",
        "train_acc_history = []\n",
        "val_loss_history = []\n",
        "val_acc_history = []\n",
        "\n",
        "# Fill training code here\n",
        "for epoch in range(EPOCHS):\n",
        "    start_time = time.time() # record start time\n",
        "\n",
        "    train_loss, train_acc = train(model=model,\n",
        "                                  iterator=train_iterator,\n",
        "                                  optimizer=optimizer,\n",
        "                                  criterion=criterion,\n",
        "                                  device=device)\n",
        "    torch.save(model, './model1_'+str(epoch)+'.pt')\n",
        "    train_loss_history.append(train_loss)\n",
        "    train_acc_history.append(train_acc)\n",
        "\n",
        "    val_loss, val_acc = evaluate(model=model,\n",
        "                                 iterator=valid_iterator,\n",
        "                                 criterion=criterion,\n",
        "                                 device=device)\n",
        "    val_loss_history.append(val_loss)\n",
        "    val_acc_history.append(val_acc)\n",
        "    end_time = time.time()\n",
        "    minute, second = epoch_time(start_time, end_time)\n",
        "\n",
        "    print(f'Epoch: {epoch+1}/{EPOCHS}')\n",
        "    print(f'Training Loss: {train_loss}.. Validation Loss: {val_loss}')\n",
        "    print(f'Training Accuracy: {train_acc}.. Validtion Accuracy: {val_acc}')\n",
        "    print(f'Time Elapsed: {minute} in minute.. {second} in second')\n",
        "    print('')"
      ]
    },
    {
      "cell_type": "code",
      "execution_count": 31,
      "metadata": {},
      "outputs": [
        {
          "data": {
            "image/png": "[encoded data removed]",
            "text/plain": [
              "<Figure size 1200x400 with 2 Axes>"
            ]
          },
          "metadata": {},
          "output_type": "display_data"
        }
      ],
      "source": [
        "# ---HIGHLIGHT---\n",
        "fig = plt.figure(num=1, figsize=(12,4))\n",
        "ax1 = fig.add_subplot(121)\n",
        "ax1.plot(range(EPOCHS), train_loss_history)\n",
        "ax2 = fig.add_subplot(122)\n",
        "ax2.plot(range(EPOCHS), val_loss_history)\n",
        "plt.show()"
      ]
    },
    {
      "cell_type": "code",
      "execution_count": 73,
      "metadata": {
        "colab": {
          "base_uri": "https://localhost:8080/"
        },
        "id": "U0rQr0suqwma",
        "outputId": "69151112-d4f3-40e5-e387-01be8e291bd0"
      },
      "outputs": [
        {
          "name": "stdout",
          "output_type": "stream",
          "text": [
            "Epoch: 1/25\n",
            "Training Loss: 1.9504556401886723.. Validation Loss: 1.4950497346588327\n",
            "Training Accuracy: 0.31465287642045453.. Validtion Accuracy: 0.45589398734177217\n",
            "Time Elapsed: 0 in minute.. 37 in second\n",
            "\n",
            "Epoch: 2/25\n",
            "Training Loss: 1.4520106121728367.. Validation Loss: 1.2941440645652482\n",
            "Training Accuracy: 0.4712136008522727.. Validtion Accuracy: 0.5193829113924051\n",
            "Time Elapsed: 0 in minute.. 37 in second\n",
            "\n",
            "Epoch: 3/25\n",
            "Training Loss: 1.3174201992594383.. Validation Loss: 1.1549769466436361\n",
            "Training Accuracy: 0.5278986150568182.. Validtion Accuracy: 0.5969145569620253\n",
            "Time Elapsed: 0 in minute.. 37 in second\n",
            "\n"
          ]
        }
      ],
      "source": [
        "# ---HIGHLIGHT---\n",
        "optimizer = optim.Adam(model2.parameters(), lr = 1e-3)\n",
        "device = torch.device('cuda')\n",
        "criterion = nn.CrossEntropyLoss()\n",
        "\n",
        "model = model2.to(device)\n",
        "criterion = criterion.to(device)\n",
        "\n",
        "EPOCHS = 25\n",
        "# used to record history of the traning\n",
        "train_loss_history = []\n",
        "train_acc_history = []\n",
        "val_loss_history = []\n",
        "val_acc_history = []\n",
        "# Fill training code here\n",
        "for epoch in range(EPOCHS):\n",
        "    start_time = time.time() # record start time\n",
        "\n",
        "    train_loss, train_acc = train(model=model,\n",
        "                                  iterator=train_iterator,\n",
        "                                  optimizer=optimizer,\n",
        "                                  criterion=criterion,\n",
        "                                  device=device)\n",
        "    torch.save(model, './model2_'+str(epoch)+'.pt')\n",
        "    train_loss_history.append(train_loss)\n",
        "    train_acc_history.append(train_acc)\n",
        "\n",
        "    val_loss, val_acc = evaluate(model=model,\n",
        "                                 iterator=valid_iterator,\n",
        "                                 criterion=criterion,\n",
        "                                 device=device)\n",
        "    val_loss_history.append(val_loss)\n",
        "    val_acc_history.append(val_acc)\n",
        "    end_time = time.time()\n",
        "    minute, second = epoch_time(start_time, end_time)\n",
        "\n",
        "    print(f'Epoch: {epoch+1}/{EPOCHS}')\n",
        "    print(f'Training Loss: {train_loss}.. Validation Loss: {val_loss}')\n",
        "    print(f'Training Accuracy: {train_acc}.. Validtion Accuracy: {val_acc}')\n",
        "    print(f'Time Elapsed: {minute} in minute.. {second} in second')\n",
        "    print('')\n",
        "\n",
        "    #Break to save time in class; remove this break and train it ALL the way later\n",
        "    if epoch == 2:\n",
        "        break"
      ]
    },
    {
      "cell_type": "markdown",
      "metadata": {
        "id": "9rvyH8HJp_Dv"
      },
      "source": [
        "As we can see, the 2 models have almost identical performances."
      ]
    },
    {
      "cell_type": "markdown",
      "metadata": {
        "id": "ME1_OR4yjkkC"
      },
      "source": [
        "# 5. Evaluating the Model"
      ]
    },
    {
      "cell_type": "markdown",
      "metadata": {
        "id": "aHFM-5H8jb_5"
      },
      "source": [
        "We don't have time to train these models in the class, so I will just load the one I trained at home"
      ]
    },
    {
      "cell_type": "code",
      "execution_count": 37,
      "metadata": {
        "id": "bk8DeFKwvJf8"
      },
      "outputs": [],
      "source": [
        "test_model = AlexNet_1(10)\n",
        "# test_model = torch.load('model1_24.pt', map_location=torch.device('cpu'))\n",
        "test_model = torch.load('model1_49.pt', map_location=torch.device('cpu'))\n",
        "test_model = test_model.to(device)"
      ]
    },
    {
      "cell_type": "code",
      "execution_count": 38,
      "metadata": {
        "colab": {
          "base_uri": "https://localhost:8080/"
        },
        "id": "I8V2lf--pA92",
        "outputId": "f35d118f-6fff-498e-f8ae-a01d5e7a556d"
      },
      "outputs": [
        {
          "name": "stdout",
          "output_type": "stream",
          "text": [
            "Our test accuracy is: 0.7549761146496815\n"
          ]
        }
      ],
      "source": [
        "_, test_acc = evaluate(model=test_model,\n",
        "                        iterator=test_iterator,\n",
        "                        criterion=criterion,\n",
        "                        device=device)\n",
        "print('Our test accuracy is:', test_acc)"
      ]
    },
    {
      "cell_type": "markdown",
      "metadata": {
        "id": "N6XDl6mZu6aK"
      },
      "source": [
        "Let's try it on some other images in the wild then!"
      ]
    },
    {
      "cell_type": "code",
      "execution_count": 43,
      "metadata": {
        "id": "KcBEAlJ6a-w3"
      },
      "outputs": [],
      "source": [
        "#Define the classes first; I simply hardcoded this for now, but this is simply the class <> logit mapping for CIFAR-10 as defined in the dataset\n",
        "classes = ('plane', 'car', 'bird', 'cat',\n",
        "           'deer', 'dog', 'frog', 'horse', 'ship', 'truck')"
      ]
    },
    {
      "cell_type": "code",
      "execution_count": 39,
      "metadata": {
        "id": "pCaz8ttRp7ui"
      },
      "outputs": [],
      "source": [
        "def prepare_an_img(img):\n",
        "  img = cv2.imread(img, 1)\n",
        "  img = cv2.cvtColor(img, cv2.COLOR_BGR2RGB)\n",
        "  img = img.astype(np.float32)\n",
        "  img = cv2.resize(img, (32, 32))\n",
        "  img = test_transforms(img).float()\n",
        "  img = torch.unsqueeze(img, 0)\n",
        "  return img"
      ]
    },
    {
      "cell_type": "markdown",
      "metadata": {
        "id": "35idYEnou_2T"
      },
      "source": [
        "Let's test it on a dog, a plane, a cat, and a dog that looks like a cat"
      ]
    },
    {
      "cell_type": "code",
      "execution_count": 44,
      "metadata": {
        "colab": {
          "base_uri": "https://localhost:8080/"
        },
        "id": "6kTOWhGZtbtz",
        "outputId": "950076f3-e58e-43d4-f317-e8172088156f"
      },
      "outputs": [
        {
          "name": "stdout",
          "output_type": "stream",
          "text": [
            "Predicted Logit: 9 | Predicted Class: truck\n"
          ]
        }
      ],
      "source": [
        "dog = prepare_an_img('dog.png')\n",
        "dog = dog.to(device)\n",
        "y_pred = F.softmax(test_model(dog)[0], dim=1)\n",
        "pred = torch.argmax(y_pred)\n",
        "predc = classes[pred]\n",
        "\n",
        "print(\"Predicted Logit: {} | Predicted Class: {}\".format(pred,predc))"
      ]
    },
    {
      "cell_type": "code",
      "execution_count": 45,
      "metadata": {
        "colab": {
          "base_uri": "https://localhost:8080/"
        },
        "id": "8Ga3V3T2tCF_",
        "outputId": "75efe093-2542-42e8-db06-187c2542c33b"
      },
      "outputs": [
        {
          "name": "stdout",
          "output_type": "stream",
          "text": [
            "Predicted Logit: 0 | Predicted Class: plane\n"
          ]
        }
      ],
      "source": [
        "plane = prepare_an_img('plane.jpg')\n",
        "plane = plane.to(device)\n",
        "y_pred = F.softmax(test_model(plane)[0], dim=1)\n",
        "pred = torch.argmax(y_pred)\n",
        "predc = classes[pred]\n",
        "\n",
        "print(\"Predicted Logit: {} | Predicted Class: {}\".format(pred,predc))"
      ]
    },
    {
      "cell_type": "code",
      "execution_count": 46,
      "metadata": {
        "colab": {
          "base_uri": "https://localhost:8080/"
        },
        "id": "4W84_69jBQiH",
        "outputId": "2d439bd9-7bd8-4941-ea43-8a9b94183706"
      },
      "outputs": [
        {
          "name": "stdout",
          "output_type": "stream",
          "text": [
            "Predicted Logit: 0 | Predicted Class: plane\n"
          ]
        }
      ],
      "source": [
        "cat = prepare_an_img('cat.jpg')\n",
        "cat = cat.to(device)\n",
        "y_pred = F.softmax(test_model(cat)[0], dim=1)\n",
        "pred = torch.argmax(y_pred)\n",
        "predc = classes[pred]\n",
        "\n",
        "print(\"Predicted Logit: {} | Predicted Class: {}\".format(pred,predc))"
      ]
    },
    {
      "cell_type": "code",
      "execution_count": 47,
      "metadata": {
        "colab": {
          "base_uri": "https://localhost:8080/"
        },
        "id": "ku6ItGokxWmH",
        "outputId": "4a5275e9-c937-4bef-d960-92a8bc4ae42d"
      },
      "outputs": [
        {
          "name": "stdout",
          "output_type": "stream",
          "text": [
            "Predicted Logit: 7 | Predicted Class: horse\n"
          ]
        }
      ],
      "source": [
        "cat_dog = prepare_an_img('cat-dog.jpg')\n",
        "cat_dog = cat_dog.to(device)\n",
        "y_pred = F.softmax(test_model(cat_dog)[0], dim=1)\n",
        "pred = torch.argmax(y_pred)\n",
        "predc = classes[pred]\n",
        "\n",
        "print(\"Predicted Logit: {} | Predicted Class: {}\".format(pred,predc))"
      ]
    },
    {
      "cell_type": "markdown",
      "metadata": {
        "id": "fdDectYDBld3"
      },
      "source": [
        "You may notice that our model perform not as well as we would like. There are multiple reasons:\n",
        "1. AlexNet itself is, by today's standard, not a very powerful network architecture\n",
        "2. We only trained for 25 epochs, which isn't very many\n",
        "3. The CIFAR-10 dataset is a toy dataset. It doesn't contain many data points, and every image it includes is also very small (32*32)\n",
        "\n",
        "One way to tackle this is to invoke a much stronger network."
      ]
    },
    {
      "cell_type": "markdown",
      "metadata": {
        "id": "rVh0VSB3kwcp"
      },
      "source": [
        "# 6. Tips & Tricks\n",
        "The above seems simple, but that is because the entire process has been carefully designed and tuned before hand! In practice, expect to perform some troubleshooting and elbow greasing to get to a viable setup and model!\n",
        "\n",
        "Some key practices to always keep in mind.\n",
        "\n",
        "1. Watch out for exploding and vanishing gradients.\n",
        "    - Always plot your loss curves while training for easy diagnosis and flagging.\n",
        "    - If your loss is not converging at all or exploding, you can try to upping or lowering the learning rate and observe the gradients being backpropagated.\n",
        "\n",
        "2. Learning rate tuning\n",
        "    - Always tune your learning rates!\n",
        "    - The optimal learning rate is dependent on the dataset, your training configuration, model and so on.\n",
        "    - The easiest way is to train for shallow epochs first while doing a grid search over a range of learning rate values, before committing to a full gamut.\n",
        "    - Start from the lower bound learning rate value (I typically start at 3e-3), and then bump it up by 10x until the training loss diverges. Pick the learning rate right before said divergence occurs.\n",
        "    - There are many many existing work on\n",
        "        - Better LR scheduler\n",
        "        - Better hyperparameter search libraries such as [Ray Tune](https://docs.ray.io/en/latest/tune/index.html) that comes with very handy, well optimized, theoretically grounded (some) approaches to tune beyond grid search.\n",
        "\n",
        "3. Use handy experimentation tracking tool\n",
        "    - Examples such as [TensorBoard](https://www.tensorflow.org/tensorboard) and [W&B](http://wandb.ai) are great choices.\n",
        "    - Especially handy when you are running a bettery of tests with many experiments and you would like to log, track and analyze your data all in one place - beats CSV / JSON / yaml logging any day!\n",
        "\n",
        "There's more to learn of course, but we'll stop here for now. If you would like to learn more, come talk with us on Slack or in person after class."
      ]
    },
    {
      "cell_type": "markdown",
      "metadata": {
        "id": "Zqb2-4G6NijE"
      },
      "source": [
        "\n",
        "\n",
        "---\n",
        "\n",
        "\n",
        "# Homework"
      ]
    },
    {
      "cell_type": "markdown",
      "metadata": {
        "id": "8b8ZZXm_cE9L"
      },
      "source": [
        "For this week's homework, try to setup and run the above code on **CIFAR10** and **AlexNet** - feel free to use either `model1`, `model2` or even [PyTorch's own implementation](https://pytorch.org/vision/stable/models/alexnet.html) as long as you train it from scratch! **(do not load pre-trained model weights)**\n",
        "\n",
        "\n",
        "> **Note**: For the homework, all you need to do is complete the following tasks and upload the necessary materials to the [HW1 Google Form](https://forms.gle/fXUpFjjanoHUhDgJA\n",
        ").\n",
        "\n",
        "\n",
        "\n",
        "\n",
        "**Tasks**\n",
        "1. Train the model on CIFAR10's trainset (of course!) for **50 epochs**.\n",
        "2. Perform early stop if needed, or simply pick best performing model checkpoints you observed. This means you will have to implement a simple checkpointing function to keep track of, and save the best model seen throughout the training.\n",
        "4. Report your train and test loss curves. That means you will have to log your loss values at each epoch, and then plot it via a library such as `matplotlib`. A line plot will suffice where your x-axis is the `epoch` and y-axis is the `loss`.\n",
        "5. Report your final aggregated testset loss and accuracy values. These should be scalars as seen in prior sections.\n",
        "6. Collect and report 1 example inference with the **correct** prediction on the testset via your newly trained model. *You should show both the final predicted (argmax) logit, and the correct label.*\n",
        "7. Collect and report 1 example inference with the **wrong** prediction on the testset via your newly trained model. By looking at the input image, try to hypothesize why do you think the model failed to classify this particular image. **Briefly explain your hypothesis in one sentence.** *You should show both the final predicted (argmax) logit, the correct label AND visualize said input image here.*\n",
        "    - *(Note: You do not have to be theoretically rigorous here, just hypothesize based on your observation and intuition)*"
      ]
    }
  ],
  "metadata": {
    "accelerator": "GPU",
    "colab": {
      "provenance": []
    },
    "kernelspec": {
      "display_name": "Python 3 (ipykernel)",
      "language": "python",
      "name": "python3"
    },
    "language_info": {
      "codemirror_mode": {
        "name": "ipython",
        "version": 3
      },
      "file_extension": ".py",
      "mimetype": "text/x-python",
      "name": "python",
      "nbconvert_exporter": "python",
      "pygments_lexer": "ipython3",
      "version": "3.9.7"
    },
    "vscode": {
      "interpreter": {
        "hash": "3f4c4b58b56bec0d7d0b99d65fb0ca77edafb9849d00ff6c9cb15db0d3feb748"
      }
    }
  },
  "nbformat": 4,
  "nbformat_minor": 0
}
